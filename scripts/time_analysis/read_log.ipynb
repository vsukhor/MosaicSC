{
 "cells": [
  {
   "cell_type": "markdown",
   "metadata": {},
   "source": [
    "### Loading and basic analysis of the simulation log records\n",
    "\n",
    "Monte-Carlo iterations represent the system 'time' evolution.  \n",
    "Functionality is similar to the accompanying python [script](./read_log.py).  \n",
    "Please feel free to adjust them to your needs."
   ]
  },
  {
   "cell_type": "code",
   "execution_count": null,
   "metadata": {},
   "outputs": [],
   "source": [
    "# uncomment to plot into separate windows:\n",
    "#%matplotlib   \n",
    "\n",
    "from common import import_log_files, plot_timedata"
   ]
  },
  {
   "cell_type": "markdown",
   "metadata": {},
   "source": [
    "Set the directory to the log files and the min, max Monte Carlo run indexes:"
   ]
  },
  {
   "cell_type": "code",
   "execution_count": null,
   "metadata": {},
   "outputs": [],
   "source": [
    "path = '../../examples/example1/'\n",
    "run_first = 0\n",
    "run_last = 1"
   ]
  },
  {
   "cell_type": "markdown",
   "metadata": {},
   "source": [
    "Import data from the files:"
   ]
  },
  {
   "cell_type": "code",
   "execution_count": null,
   "metadata": {},
   "outputs": [],
   "source": [
    "ravg, pat = import_log_files(path, [run_first, run_last])"
   ]
  },
  {
   "cell_type": "markdown",
   "metadata": {},
   "source": [
    "'ravg' contains the averages over [run_first : run_last].\n",
    "\n",
    "\n",
    "Fit the time coarse of the number of aggregates present in the system \n",
    "and plot the result along with the original data.  \n",
    "Decreasing exponential function \n",
    "$$y(x) = a e^{-x/b} + c$$\n",
    "approximates the aggregation progression.  \n",
    "The initial guess is [*a*, *b*, *c*]."
   ]
  },
  {
   "cell_type": "code",
   "execution_count": null,
   "metadata": {
    "scrolled": true
   },
   "outputs": [],
   "source": [
    "ravg.fit_num_sc([65., 100., 56.])\n",
    "title = 'number of aggregates: runs ' + pat\n",
    "plot_timedata(title, \n",
    "              ravg.inds, \n",
    "              ravg.num_sc['raw'],\n",
    "              ravg.num_sc['pars'],\n",
    "              ravg.num_sc['fit'], \n",
    "              colors=['b--', 'r'], \n",
    "              figsize=(9, 6))"
   ]
  },
  {
   "cell_type": "markdown",
   "metadata": {},
   "source": [
    "Fit the time coarse for the aggregare masses \n",
    "and plot the result along with the original data.  \n",
    "Growing exponential function \n",
    "$$y(x) = a(1 - e^{-x/b}) + c$$\n",
    "approximates the progression.  \n",
    "The initial guess [*a*, *b*, *c*] is supplied for each of the 5 mass components."
   ]
  },
  {
   "cell_type": "code",
   "execution_count": null,
   "metadata": {
    "scrolled": false
   },
   "outputs": [],
   "source": [
    "ravg.fit_masses([[1., 50, 2.], [0.2, 50, 2.], [0.15, 50, 0.25], [0.15, 50, 0.25], [0.5, 50, 1.]])\n",
    "ravg.plot_aggregate_mass(pat, with_fit=True, figsize=(9, 6))\n",
    "print('Optimal parameters for the masses: \\n')\n",
    "[print(f'Component {i} : {p}') for i, p in enumerate(ravg.sc_mean_mass['pars'])];"
   ]
  },
  {
   "cell_type": "markdown",
   "metadata": {},
   "source": [
    "Plot time evolution of the interparticle connectivity:"
   ]
  },
  {
   "cell_type": "code",
   "execution_count": null,
   "metadata": {
    "scrolled": true
   },
   "outputs": [],
   "source": [
    "ravg.plot_connectivity(pat)"
   ]
  },
  {
   "cell_type": "code",
   "execution_count": null,
   "metadata": {},
   "outputs": [],
   "source": []
  }
 ],
 "metadata": {
  "kernelspec": {
   "display_name": "Python 3",
   "language": "python",
   "name": "python3"
  },
  "language_info": {
   "codemirror_mode": {
    "name": "ipython",
    "version": 3
   },
   "file_extension": ".py",
   "mimetype": "text/x-python",
   "name": "python",
   "nbconvert_exporter": "python",
   "pygments_lexer": "ipython3",
   "version": "3.7.4"
  }
 },
 "nbformat": 4,
 "nbformat_minor": 2
}
